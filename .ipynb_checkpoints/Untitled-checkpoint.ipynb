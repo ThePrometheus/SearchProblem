{
 "cells": [
  {
   "cell_type": "code",
   "execution_count": 5,
   "metadata": {
    "collapsed": true
   },
   "outputs": [],
   "source": [
    "import urllib\n",
    "import urllib.request"
   ]
  },
  {
   "cell_type": "code",
   "execution_count": 6,
   "metadata": {
    "collapsed": false
   },
   "outputs": [],
   "source": [
    "thisurl = \"http://www-rohan.sdsu.edu/~gawron/index.html\"\n",
    "\n",
    "handle = urllib.request.urlopen(thisurl)\n",
    "\n",
    "html_gunk =  handle.read()"
   ]
  },
  {
   "cell_type": "code",
   "execution_count": 7,
   "metadata": {
    "collapsed": false,
    "scrolled": true
   },
   "outputs": [
    {
     "data": {
      "text/plain": [
       "b'<html>\\n<head>\\n<title>Jean Mark Gawron</title>\\n</head>\\n    <!-- comment wow bgcolor=\"#69301C\" pr \"#2060a0\"  #778899\\n<body bgcolor=\"#A91609\" text=\"#ffffff\" link=\"#A5C531\" vlink=\"#000000\" \\n  alink=\"#cc3232\">\\n<body bgcolor=\"#BD190A\" text=\"#ffffff\" link=\"#ffff00\" vlink=\"#ffffff\" \\n  alink=\"#cc3232\">\\n<body bgcolor=\"#ce7171\" text=\"#ffffff\" link=\"#ffff00\" vlink=\"#ffffff\" \\n  alink=\"#cc3232\">\\n<img  align=middle hspace=8 src=\"gifs/tdoor.gif\" alt=\"Room:\"> EBA 321<br>\\n-->\\n<p align=\"left\">\\n<h1>Jean Mark Gawron</h1>\\n</p>\\n<div>\\n<p>\\n<table>\\n<center>\\n<table width=100% border=\"0\" cellpadding=\"10\" cellspacing=\"0\">\\n<tr>\\n<td>\\n&nbsp;\\n</td>\\n<td colspan=2>\\n&nbsp;\\n</td>\\n<td>\\n&nbsp;\\n</td>\\n</tr>\\n<tr>\\n<td>\\n&nbsp;\\n</td>\\n<td>\\n&nbsp;\\n</td>\\n<td>\\n&nbsp;\\n</td>\\n</tr>\\n<tr>\\n<td valign=\"top\">\\n<img src=\"gawron2.jpg\" width=210><br>\\n<table bgcolor=\"lightgray\" width=\"210\">\\n<tr>\\n<td>\\n<a href=\"#classes\">Classes</a> <br><br>\\n<a href=\"http://bulba.sdsu.edu/compling-program/research/gawron/\">Research</a><br> <br>\\n<A HREF=\"http://www-rohan.sdsu.edu/dept/linguist/ma_programs/computational_lgx/index.htm\">Comp Ling Program</A><br><br>\\n<A HREF=\"http://www-rohan.sdsu.edu/dept/linguist/ma_programs/computational_lgx/courses_requirements.htm\">Curriculum</A><br><br>\\n<a href=\"key.asc\">PGP Public key</a><br><br>\\n<a href=\"key_with_photo.asc\">PGP key + Photo </a> <br><br>\\n<a href=\"GPG_explanation.html\">Explaining PGP</a>\\n</td>\\n</tr>\\n</table>\\n\\n</td>\\n\\n<td>\\n</td>\\n<td colspan=3 valign=top>\\n<table>\\n<tr>\\n<td width=\"100%\">\\n<p>\\nWordnet fragment: closeup of a set of semantically related \\nwords in Wordnet 3.  \\nThis network represents only hyponym links and the starting point was the word \\n<em>dog</em>.\\nHover your cursor over a node to see the corresponding word.  \\nTry selecting a node and moving it around.\\nThe network was rendered by Mike Bostock\\'s set of javascript visualization\\ntools, D3, via <a href=\"http://drewconway.com/zia/2013/3/26/visualizing-networkx-graphs-in-the-browser-using-d3\">Drew Conway\\'s networkx hooks.</a>\\nThe colors are chosen by <a href=\"https://bitbucket.org/taynaud/python-louvain/overview\">Thomas Aynaud\\'s implementation of\\nthe Louvain community detection algorithm</a>, which does a pretty \\ngood job of finding the numerous bits of local structure in this graph.  \\nPutting thse pieces together was inspired by\\n<a href=\"http://nealcaren.web.unc.edu/a-sociology-citation-network/\">\\nNeal Caren\\'s citation graph of Sociology papers</a>.\\nThose feeling\\nadventurous may want to take a look at <a href=\"person\">this much larger graph centered on the word <em>person</em>.</a>\\n</p>\\n</td>\\n</tr>\\n<tr>\\n<td width=100%>\\n<br>\\n<iframe width=100% height=\"400\" src=\"dog/\" marginwidth=\"0\" marginheight=\"0\" scrolling=\"yes\"></iframe>\\n</td>\\n</tr>\\n</table>\\n</td>\\n</tr>\\n<tr>\\n<td valign=\"top\">\\nDepartment of Linguistics <br>\\nSan Diego State University <br>\\n5500 Campanile Dr. <br>\\nSan Diego, CA 92182-7727<br>\\n<br>\\n</td>\\n<td>\\n&nbsp;\\n</td>\\n<td>\\n&nbsp;\\n</td>\\n\\n<td width=\"70%\" colspan=3>\\n<p>\\n\"I have come to believe that the whole world is an enigma, a harmless enigma\\nthat is made terrible by our own mad attempt to interpret it as though it had\\nan underlying truth.\"\\n-- Umberto Eco<br>\\n</td>\\n</tr>\\n<tr>\\n<td colspan=4>\\n<ul>\\n<H3>Computational Linguistics Certificate</H3>\\n<p>\\n<p>\\n<table width=\"80%\">\\n<tr>\\n<td>\\nThe Computational Linguistics program at SDSU is\\noffering a new certificate in Computational Linguistics for\\nwhich undergrads, grads, and community members may qualify.\\n<a href=\"CompLingCert.rtf\">Details</a>\\n</td>\\n</tr>\\n</table>\\n</td>\\n</tr>\\n<tr>\\n</tr>\\n</tr>\\n</table>\\n</table>\\n<div>\\n<UL>\\n\\n<table border bgcolor=\"lightgray\" fgcolor=\"#ffffff\" width=75%>\\n<tr>\\n<td bgcolor=\"white\">\\n &nbsp;\\n</td>\\n<td bgcolor=\"white\">\\n<H2><a name=\"Classes\"> Courses</a> </H2>\\n</td>\\n<tr>\\n<td>\\nSpring 2016\\n</td>\\n<td>\\n<table>\\n\\n<tr>\\n<td valign=\"top\">\\nLing 522\\n</td> \\n<td valign = top>  <A href=\"http://www.rohan.sdsu.edu/~gawron/semantics/\">\\n   Intro to semantics</A>\\n</td>\\n<td valign=\"top\">\\nMeaning: What is it?\\n</td>\\n</tr>\\n<tr>\\n<td valign=\"top\">\\nLing 581\\n</td> \\n<td valign = top>  <A href=\"http://www.rohan.sdsu.edu/~gawron/compling/\">\\n   Intro to computational linguistics</A>\\n</td>\\n<td valign=\"top\">\\nComputing with words & linguistic structure\\n</td>\\n</tr>\\n<tr>\\n<td valign=\"top\">\\nLing 626\\n</td> \\n<td valign = top>  <A href=\"http://www.rohan.sdsu.edu/~gawron/pragmatics/\">\\n   Pragmatics</A>\\n</td>\\n<td valign=\"top\">\\nHow to mean things (but not why)\\n</td>\\n</tr>\\n</table>\\n</td>\\n</tr>\\n<tr>\\n<td>\\nFall 2015\\n</td>\\n<td>\\n<table>\\n\\n<tr>\\n<td valign=\"top\">\\nLing 522\\n</td> \\n<td valign = top>  <A href=\"http://www.rohan.sdsu.edu/~gawron/syntax/\">\\n   Intro to syntax</A>\\n</td>\\n<td valign=\"top\">\\nStructure: What is it good for?\\n</td>\\n</tr>\\n<tr>\\n<td valign=\"top\">\\nLing 572\\n</td> \\n<td valign = top>  <A href=\"http://www.rohan.sdsu.edu/~gawron/python_for_ss/\">\\n   Python for Social Science\\n</td>\\n<td valign=\"top\">\\nCoping with the data explosion\\n</td>\\n</tr>\\n</table>\\n</td>\\n</tr>\\n<tr>\\n<td>\\nFall 2014\\n</td>\\n<td>\\n<table>\\n\\n<tr>\\n<td valign=\"top\">\\nLing 522\\n</td> \\n<td valign = top>  <A href=\"http://www.rohan.sdsu.edu/~gawron/syntax/\">\\n   Intro to syntax</A>\\n</td>\\n<td valign=\"top\">\\nStructure: What is it good for?\\n</td>\\n</tr>\\n<tr>\\n<td valign=\"top\">\\nLing 572\\n</td> \\n<td valign = top>  <A href=\"http://www.rohan.sdsu.edu/~gawron/python_for_ss/\">\\n   Python for Social Science\\n</td>\\n<td valign=\"top\">\\nCoping with the data explosion\\n</td>\\n</tr>\\n</table>\\n</td>\\n</tr>\\n<tr>\\n<td>\\nSpring 2014\\n</td>\\n<td>\\n<table>\\n\\n<tr>\\n<td valign=\"top\">\\nLing 525\\n</td> \\n<td valign = top>  <A href=\"http://www.rohan.sdsu.edu/~gawron/semantics/\">\\n   Intro to semantics</A>\\n</td>\\n<td valign=\"top\">\\nMeaning: What is it?\\n</td>\\n</tr>\\n<tr>\\n<td valign=\"top\">\\nLing 581\\n</td> \\n<td valign = top>  <A href=\"http://www.rohan.sdsu.edu/~gawron/compling/\">\\n   Intro to computational linguistics</A>\\n</td>\\n<td valign=\"top\">\\nComputing with woids\\n</td>\\n</tr>\\n<tr>\\n<td valign=\"top\">\\nLing 596\\n</td> \\n<td valign = top>  <A href=\"http://www.rohan.sdsu.edu/~gawron/python_for_ss/\">\\n   Python for social scientists</A>\\n</td>\\n<td valign=\"top\">\\nCoping with the data explosion\\n</td>\\n</tr>\\n</table>\\n</td>\\n</tr>\\n<tr>\\n<td>\\nFall 2013\\n</td>\\n<td>\\n<table>\\n\\n<tr>\\n<td valign=\"top\">\\nLing 522\\n</td> \\n<td valign = top>  <A href=\"http://www.rohan.sdsu.edu/~gawron/syntax/\">\\n   Intro to syntax</A>\\n</td>\\n<td valign=\"top\">\\nStructure: What is it good for?\\n</td>\\n</tr>\\n<tr>\\n<td valign=\"top\">\\nLing 570\\n</td> \\n<td valign = top>  <A href=\"http://www.rohan.sdsu.edu/~gawron/mathling/\">\\n   Intro to mathematical linguistics</A>\\n</td>\\n<td valign=\"top\">\\nSets, logic, lattices, linguistic applications\\n</td>\\n</tr>\\n</table>\\n</td>\\n</tr>\\n<tr> \\n<td>\\nSpring 2013\\n</td>\\n<td valign=\"top\">\\n<table>\\n<tr>\\n<table>\\n\\n<tr>\\n<td valign=\"top\">\\nLing 525\\n</td> \\n<td valign = top>  <A href=\"http://www.rohan.sdsu.edu/~gawron/semantics/\">\\n   Intro to semantics</A>\\n</td>\\n<td valign=\"top\">\\nLanguage: What does it mean?\\n</td>\\n</tr>\\n<tr>\\n<td valign=\"top\">\\nLing 503\\n</td> \\n<td valign = top>  <A href=\"http://www.rohan.sdsu.edu/~gawron/functions_of_language/\">\\n   Functions of Language</A>\\n</td>\\n<td valign=\"top\">\\nLanguage: What is it for?\\n</td>\\n</tr>\\n<tr>\\n<td valign=\"top\">\\nLing 581\\n</td> \\n<td valign = top>  <A href=\"http://www.rohan.sdsu.edu/~gawron/compling/\">\\n   Intro to computational linguistics</A>\\n</td>\\n<td valign=\"top\">\\nComputational approaches to language\\n</td>\\n</tr>\\n</table>\\n</tr>\\n</tr>\\n<tr> \\n<td>\\nFall 2012\\n</td>\\n<td valign=\"top\">\\n<table>\\n<tr>\\n<table>\\n\\n<tr>\\n<td valign=\"top\">\\nLing 522\\n</td> \\n<td valign = top>  <A href=\"http://www.rohan.sdsu.edu/~gawron/syntax/\">\\n   Intro to syntax</A>\\n</td>\\n<td valign=\"top\">\\nStructure: What is it good for?\\n</td>\\n</tr>\\n<tr>\\n<td valign=\"top\">\\nLing 570\\n</td> \\n<td valign = top>  <A href=\"http://www.rohan.sdsu.edu/~gawron/mathling/\">\\n   Intro to mathematical linguistics</A>\\n</td>\\n<td valign=\"top\">\\nSets, logic, lattices, linguistic applications\\n</td>\\n</tr>\\n</table>\\n</tr>\\n</tr>\\n<tr> \\n<td>\\nSpring 2012\\n</td>\\n<td valign=\"top\">\\n<table>\\n<tr>\\n<table>\\n\\n<tr>\\n<td valign=\"top\">\\nLing 525\\n</td> \\n<td valign = top>  <A href=\"http://www.rohan.sdsu.edu/~gawron/semantics/\">\\n   Intro to Semantics</A>\\n</td>\\n<td valign=\"top\">\\nMeaning and form\\n</td>\\n</tr>\\n<tr>\\n<td valign=\"top\">\\nLing 581\\n</td> \\n<td valign = top>  <A href=\"http://www.rohan.sdsu.edu/~gawron/compling/\">\\n   Computational Linguistics</A>\\n</td>\\n<td valign=\"top\">\\nProcessing words, sentences, documents\\n</td>\\n</tr>\\n<tr>\\n<td valign=\"top\">\\nLing 501\\n</td> \\n<td valign = top>  <A href=\"http://www.rohan.sdsu.edu/~gawron/fundamentals/\">\\n   Fundamentals of Ling</A>\\n</td>\\n<td valign=\"top\">\\nLanguistic structure and what it\\'s good for\\n</td>\\n</tr>\\n\\n</table>\\n</tr>\\n</tr>\\n</table>\\n</p>\\n<div>\\n<p>\\n<H2>Software</H2>\\n<LI> <a href=\"word_sim_package.tar.gz\">Word similarity tools.</a>\\n<LI> <a href=\"crawler_package-0.1.tar.gz\">Basic crawler module: A host of Python components implementing a basic crawler for data collection.</a>\\n<LI> <a href=\"archiver.zip\">Archiver module: Presupposes crawler.  Creates archive of compressed text files,  WithTwitter data, can be used to store various augmented information in an Excel file, including page rank, and disabbreviated web links with title info.</a>\\n<p>\\n<H2>Recent Papers and Talks</H2>\\n<UL>\\n<LI> <a href=\"submitted_spatial_aspect.pdf\">The Lexical Semantics of Extent Verbs</a>\\nThis version of the work descending from\\nthe \"Generalized Paths\" Salt paper is under submission and will be stable\\na while.\\n<li> <a href=\"frames_hand.pdf\">Argument Structure as soft constraints</a> (talk\\ngiven at Xerox Parc March 9, 2008)\\n<li> <a href=\"http://repositories.cdlib.org/ucsdling/sdlp3/1\">\\nInterpreting Words</a> (current draft entitled: <I>Circumstances\\nand Perspective: The Logic of Argument Structure</I>)\\n<LI> Paths and the Language of Change (<a href=\"paths_change.pdf\">pdf</a>, <a href=\"new_scales_paper.pdf\">Old version</a>,\\n<a href=\"scales_hand-2pg.pdf\">ps handout</a>,\\n<a href=\"scales_hand-2pg.ps\">ps handout</a>)\\n<LI> \\nGeneralized Paths\\n(<A HREF=\"salt_hand.pdf\">Salt XV handout</A>,\\n<A HREF=\"salt_paper.pdf\">Salt XV paper</A>,\\n)\\n<LI> \\nMotion, Scalar Paths, and Lexical Aspect\\n(<A HREF=\"new_motion_to_state_handout.pdf\">pdf version</A>)\\n<LI> \\nFrames and Lexical Semantics\\n(<A HREF=\"frame_perspective.ps\">ps version</A>)\\n<LI> \\nTwo Kinds of Determiner in DP\\n(<A HREF=\"http://www.rohan.sdsu.edu/~gawron/lsa_hand.ps\">\\n    LSA handout [postscript]</A>,\\n <A HREF=\"http://www.rohan.sdsu.edu/~gawron/lsa_talk.ps\">\\n  LSA  talk [postscript]</A>)\\n<ul>\\n<li> Handout contains a superset of the LSA talk handout\\n<li> Talk contains read version of the LSA talk, some\\nclarification of material in the handout\\n</ul>\\n<LI> \\nAbduction and Mismatch in Machine Translation \\n(<A HREF=\"http://www.rohan.sdsu.edu/~gawron/mt_paper.pdf\">pdf version</A>,\\n<A HREF=\"http://www.ai.sri.com/~gawron/mt_paper.ps\"> ps version</A>)\\n<LI> Universal Concessive Conditionals (<A HREF=\"nuccpap.ps\">\\nps</A>, <A HREF=\"nuccpap.pdf\">\\npdf</A>)\\n</UL>\\n\\n<H3>Projects</H3>\\n<UL>\\n<LI> <a HREF=\"http://mappingideas.sdsu.edu\">Mapping ideas</a>\\n<LI> <A HREF=\"http://bulba.sdsu.edu/framenetmt\">Machine Translation\\nwith FrameNet</A>\\n<LI> <A HREF=\"http://www.ai.sri.com/natural-language/projects/arpa-sls/nat-lang.html\">Gemini</A>\\n<LI> <A HREF=\"http://www.ai.sri.com/aic/natural-language/natural-language.html#spoken-language\">Spoken Language Systems</A>\\n<LI> <A HREF=\"http://jazz.alexanderstreet.com.libproxy.sdsu.edu/View/547208/\">\\nBill Evans</a>\\n</UL>\\n\\n\\n<h2>Oddz Endz</h2>\\n\\n<ul>\\n<li> <a href=\"http://www.utexas.edu/courses/myth/12.Icarus.htm\">\\nCynthia Shelmerdine\\'s Icarus page </a> (especially Muriel Rukeyser\\'s\\ncontribution)\\n<li> <a href=\"http://www.johnsayles.com/movies.html\">John Sayles</a>\\n<li> <a href=\"http://web.mac.com/therealjanesmiley/iWeb/Site/index.html\">\\nJane Smiley</a> (Not that fond of <I>Private Lives</I>, but\\n<I>Horse Heaven</i>, <I>A Thousand Acres</i>, <I>Moo</i>,\\n<I>Ten Days in the Hills</I>, <I>Duplicate Keys</I> and <I>Good Faith</I>\\nare not only all stunning, but stunning in their variety)\\n<li> <a href =\" http://www.wikilivres.ca/wiki/The_Black_Girl_in_Search_of_God\">The Adventures of the Black Girl in her Search for God. G. B. Shaw.</a>\\n</ul>\\n\\n\\n<H2>Corpora and Resources</H2>\\n<UL>\\n<LI> <A HREF=\"aligned_texts\">\\nJapanese English aligned texts</A>\\n</UL>\\n\\n<p>\\n<p>\\n<table border>\\n<tr>\\n<td valign=top>\\n<h2>Novels</h2>\\n</td>\\n<td>\\n&nbsp;\\n</td>\\n<td>\\n<img src=\"algorithm.png\" width=190>\\n</td>\\n<td>\\n<img src=\"Traume.jpg\" width=190>\\n</td>\\n<td>\\n<img width= 135 src=\"Apology.jpg\" width=190>\\n</td>\\n</tr>\\n</table>\\n<hr>\\n\\n\\nOther Stuff: <A HREF=\"http://www.google.com\">Google</A>, <A HREF=\"http://altavista.digital.com/\">Alta Vista</A>\\n\\n<h3>Other Things to Do</A></h3>\\n\\n<UL>\\n<li><a href=\"http://www.utoronto.ca/webdocs/HTMLdocs/NewHTML/book.html \">HTML book</a>\\n<LI> <A HREF=\"http://imagiware.com/RxHTML.cgi\">Dr.HTML will fix your web page</A>\\n<LI> Dictionaries: <A HREF=\"http://www.yourdictionary.com\">Bucknell dictionaries,</A>\\n<A HREF=\"http://www.emich.edu/~linguist/dictionaries.html\">EMich dictionaries</A>\\n\\n</UL>\\n<img src=http://www.sdsu.edu/cgi-bin/nph-counter?url=\"http://www.rohan.sdsu.edu/~gawron/index.htm\"&width=5 alt=\"counter\"> \\n\\n\\n<hr>\\n<address> Jean Mark Gawron \\n</address> SDSU, 5900 Campanile Drive, San Diego, CA 92182-7717\\n<hr size=3 width=80% noshade>\\n\\n<!-- hhmts start -->\\nLast modified: Tue Aug 22 15:39:48 2000\\n<!-- hhmts end -->\\n</body>\\n\\n\\n\\n\\n\\n\\n\\n'"
      ]
     },
     "execution_count": 7,
     "metadata": {},
     "output_type": "execute_result"
    }
   ],
   "source": [
    "html_gunk"
   ]
  },
  {
   "cell_type": "code",
   "execution_count": 23,
   "metadata": {
    "collapsed": false
   },
   "outputs": [
    {
     "ename": "TypeError",
     "evalue": "Can't convert 'bytes' object to str implicitly",
     "output_type": "error",
     "traceback": [
      "\u001b[1;31m---------------------------------------------------------------------------\u001b[0m",
      "\u001b[1;31mTypeError\u001b[0m                                 Traceback (most recent call last)",
      "\u001b[1;32m<ipython-input-23-17246bcc23a7>\u001b[0m in \u001b[0;36m<module>\u001b[1;34m()\u001b[0m\n\u001b[0;32m     16\u001b[0m \u001b[0mthisurl\u001b[0m \u001b[1;33m=\u001b[0m \u001b[1;34m\"http://www-rohan.sdsu.edu/~gawron/index.html\"\u001b[0m\u001b[1;33m\u001b[0m\u001b[0m\n\u001b[0;32m     17\u001b[0m \u001b[1;31m#Feed HTML file into parser\u001b[0m\u001b[1;33m\u001b[0m\u001b[1;33m\u001b[0m\u001b[0m\n\u001b[1;32m---> 18\u001b[1;33m \u001b[0mlParser\u001b[0m\u001b[1;33m.\u001b[0m\u001b[0mfeed\u001b[0m\u001b[1;33m(\u001b[0m\u001b[1;33m(\u001b[0m\u001b[0murllib\u001b[0m\u001b[1;33m.\u001b[0m\u001b[0mrequest\u001b[0m\u001b[1;33m.\u001b[0m\u001b[0murlopen\u001b[0m\u001b[1;33m(\u001b[0m\u001b[0mthisurl\u001b[0m\u001b[1;33m)\u001b[0m\u001b[1;33m.\u001b[0m\u001b[0mread\u001b[0m\u001b[1;33m(\u001b[0m\u001b[1;33m)\u001b[0m\u001b[1;33m)\u001b[0m\u001b[1;33m)\u001b[0m\u001b[1;33m\u001b[0m\u001b[0m\n\u001b[0m\u001b[0;32m     19\u001b[0m \u001b[0mlParser\u001b[0m\u001b[1;33m.\u001b[0m\u001b[0mclose\u001b[0m\u001b[1;33m(\u001b[0m\u001b[1;33m)\u001b[0m\u001b[1;33m\u001b[0m\u001b[0m\n\u001b[0;32m     20\u001b[0m \u001b[1;32mfor\u001b[0m \u001b[0mitem\u001b[0m \u001b[1;32min\u001b[0m \u001b[0murlText\u001b[0m\u001b[1;33m:\u001b[0m\u001b[1;33m\u001b[0m\u001b[0m\n",
      "\u001b[1;32m/home/citizenzer0/anaconda3/lib/python3.5/html/parser.py\u001b[0m in \u001b[0;36mfeed\u001b[1;34m(self, data)\u001b[0m\n\u001b[0;32m    108\u001b[0m         \u001b[1;32mas\u001b[0m \u001b[0myou\u001b[0m \u001b[0mwant\u001b[0m \u001b[1;33m(\u001b[0m\u001b[0mmay\u001b[0m \u001b[0minclude\u001b[0m \u001b[1;34m'\\n'\u001b[0m\u001b[1;33m)\u001b[0m\u001b[1;33m.\u001b[0m\u001b[1;33m\u001b[0m\u001b[0m\n\u001b[0;32m    109\u001b[0m         \"\"\"\n\u001b[1;32m--> 110\u001b[1;33m         \u001b[0mself\u001b[0m\u001b[1;33m.\u001b[0m\u001b[0mrawdata\u001b[0m \u001b[1;33m=\u001b[0m \u001b[0mself\u001b[0m\u001b[1;33m.\u001b[0m\u001b[0mrawdata\u001b[0m \u001b[1;33m+\u001b[0m \u001b[0mdata\u001b[0m\u001b[1;33m\u001b[0m\u001b[0m\n\u001b[0m\u001b[0;32m    111\u001b[0m         \u001b[0mself\u001b[0m\u001b[1;33m.\u001b[0m\u001b[0mgoahead\u001b[0m\u001b[1;33m(\u001b[0m\u001b[1;36m0\u001b[0m\u001b[1;33m)\u001b[0m\u001b[1;33m\u001b[0m\u001b[0m\n\u001b[0;32m    112\u001b[0m \u001b[1;33m\u001b[0m\u001b[0m\n",
      "\u001b[1;31mTypeError\u001b[0m: Can't convert 'bytes' object to str implicitly"
     ]
    }
   ],
   "source": [
    "from html.parser import HTMLParser\n",
    "\n",
    "urlText = []\n",
    "\n",
    "#Define HTML Parser\n",
    "class parseText(HTMLParser):\n",
    "        \n",
    "    def handle_data(self, data):\n",
    "        if data != '\\n':\n",
    "            urlText.append(data)\n",
    "    \n",
    "\n",
    "#Create instance of HTML parser\n",
    "lParser = parseText()\n",
    "\n",
    "thisurl = \"http://www-rohan.sdsu.edu/~gawron/index.html\"\n",
    "#Feed HTML file into parser\n",
    "lParser.feed((urllib.request.urlopen(thisurl).readlines()))\n",
    "lParser.close()\n",
    "for item in urlText:\n",
    "    print(item)"
   ]
  },
  {
   "cell_type": "code",
   "execution_count": null,
   "metadata": {
    "collapsed": true
   },
   "outputs": [],
   "source": []
  }
 ],
 "metadata": {
  "kernelspec": {
   "display_name": "Python [Root]",
   "language": "python",
   "name": "Python [Root]"
  },
  "language_info": {
   "codemirror_mode": {
    "name": "ipython",
    "version": 3
   },
   "file_extension": ".py",
   "mimetype": "text/x-python",
   "name": "python",
   "nbconvert_exporter": "python",
   "pygments_lexer": "ipython3",
   "version": "3.5.2"
  }
 },
 "nbformat": 4,
 "nbformat_minor": 0
}
